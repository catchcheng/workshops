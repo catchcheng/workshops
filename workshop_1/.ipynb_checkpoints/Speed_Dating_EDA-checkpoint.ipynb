{
 "cells": [
  {
   "cell_type": "markdown",
   "metadata": {},
   "source": [
    "# Speed Dating Data Exploratory Data Analysis\n"
   ]
  },
  {
   "cell_type": "code",
   "execution_count": null,
   "metadata": {
    "collapsed": true
   },
   "outputs": [],
   "source": [
    "#First let's import the necessary modules\n",
    "import numpy as np\n",
    "import pandas as pd\n",
    "import matplotlib.pyplot as plt\n",
    "%matplotlib inline\n",
    "\n",
    "import os\n",
    "from IPython.display import display, HTML\n",
    "\n",
    "pd.set_option('display.max_columns', 500)"
   ]
  },
  {
   "cell_type": "code",
   "execution_count": null,
   "metadata": {
    "collapsed": true
   },
   "outputs": [],
   "source": [
    "#Specifying the Data Path\n",
    "\n",
    "cwd = os.getcwd()\n",
    "file_path = os.path.join(cwd, 'cleaned_speed_dating.csv')"
   ]
  },
  {
   "cell_type": "markdown",
   "metadata": {},
   "source": [
    "Here, we explore some basic dataset details."
   ]
  },
  {
   "cell_type": "code",
   "execution_count": null,
   "metadata": {
    "collapsed": true
   },
   "outputs": [],
   "source": [
    "#Reading the CSV, as easy as this! df stands for dataframe\n",
    "df=pd.read_csv(file_path)"
   ]
  },
  {
   "cell_type": "code",
   "execution_count": null,
   "metadata": {},
   "outputs": [],
   "source": [
    "df.head()"
   ]
  },
  {
   "cell_type": "code",
   "execution_count": null,
   "metadata": {
    "scrolled": true
   },
   "outputs": [],
   "source": [
    "df.info()"
   ]
  },
  {
   "cell_type": "code",
   "execution_count": null,
   "metadata": {},
   "outputs": [],
   "source": [
    "display(df.describe())"
   ]
  },
  {
   "cell_type": "markdown",
   "metadata": {},
   "source": [
    "### Correlation\n",
    "\n",
    "We calculate the correlation matrix of the dataframe."
   ]
  },
  {
   "cell_type": "code",
   "execution_count": null,
   "metadata": {
    "scrolled": true
   },
   "outputs": [],
   "source": [
    "corr = df.corr()\n",
    "display(corr)"
   ]
  },
  {
   "cell_type": "code",
   "execution_count": null,
   "metadata": {
    "collapsed": true
   },
   "outputs": [],
   "source": [
    "corr_tmp = corr.copy()\n",
    "shape = corr_tmp.values.shape\n",
    "\n",
    "#Setting upper triangular matrix including diagonal (std) to -99, discounting them\n",
    "bad_indices = np.triu_indices(shape[0])\n",
    "corr_tmp.values[bad_indices] = -99\n",
    "\n",
    "arg_corr = np.dstack(np.unravel_index(np.argsort(-corr_tmp.values.ravel()), shape))[0]\n",
    "\n",
    "arg_corr = arg_corr[:-len(bad_indices[0])] "
   ]
  },
  {
   "cell_type": "code",
   "execution_count": null,
   "metadata": {},
   "outputs": [],
   "source": [
    "print('Highest Correlation Coefficient\\n')\n",
    "\n",
    "for pair in corr_tmp.columns[arg_corr]:\n",
    "    print(pair, ' Correlation = ', corr[pair[0]][pair[1]])\n",
    "    \n",
    "print('Lowest Correlation Coefficient\\n')    "
   ]
  },
  {
   "cell_type": "markdown",
   "metadata": {},
   "source": [
    "Look at the correlations above. Are there any results that you weren't expecting?"
   ]
  },
  {
   "cell_type": "markdown",
   "metadata": {},
   "source": [
    "### Data Visualization"
   ]
  },
  {
   "cell_type": "code",
   "execution_count": null,
   "metadata": {
    "collapsed": true
   },
   "outputs": [],
   "source": [
    "from mpl_toolkits.mplot3d import Axes3D\n",
    "\n",
    "def plotTwoFeatures(f1, f2):\n",
    "    fig = plt.figure()\n",
    "    plt.plot(df[f1], df[f2], 'o')\n",
    "    plt.xlabel(f1)\n",
    "    plt.ylabel(f2)\n",
    "\n"
   ]
  },
  {
   "cell_type": "code",
   "execution_count": null,
   "metadata": {},
   "outputs": [],
   "source": [
    "#Hard to see for first two, these are only integers\n",
    "\n",
    "plotTwoFeatures('art', 'museums')\n",
    "plotTwoFeatures('intel_partner', 'sinc_partner')\n",
    "plotTwoFeatures('amb_want', 'attr_want')"
   ]
  },
  {
   "cell_type": "code",
   "execution_count": null,
   "metadata": {},
   "outputs": [],
   "source": [
    "# Examine the proportion of acceptance by gender\n",
    "emale_df = df.loc[df['gender'] == 0]\n",
    "male_df = df.loc[df['gender'] == 1]\n",
    "\n",
    "yes_female_df = female_df.query('dec == 1')\n",
    "no_female_df = female_df.query('dec == 0')\n",
    "print('Proportion of acceptance by females is {}'.format(yes_female_df.shape[0]/female_df.shape[0]))\n",
    "\n",
    "yes_male_df =male_df.query('dec == 1')\n",
    "no_male_df = male_df.query('dec == 0')\n",
    "print('Proportion of acceptance by males is {}'.format(yes_male_df.shape[0]/male_df.shape[0]))"
   ]
  },
  {
   "cell_type": "code",
   "execution_count": null,
   "metadata": {
    "collapsed": true
   },
   "outputs": [],
   "source": [
    "def plot_feature(feature):\n",
    "    fig = plt.figure(figsize=(8, 8))\n",
    "    fig.subplots_adjust(hspace=0.5)\n",
    "    \n",
    "    ax = plt.subplot(211)\n",
    "    ax.set_title('Female')\n",
    "    ax.set_xlabel(feature)\n",
    "    x = [no_female_df[feature].values]\n",
    "    y = [yes_female_df[feature].values]\n",
    "    plt.hist([x, y], label=['No','Yes'], bins=11)\n",
    "    ax.legend()\n",
    "    \n",
    "    ax = plt.subplot(212)\n",
    "    ax.set_title('Male')\n",
    "    ax.set_xlabel(feature)\n",
    "    x = [no_male_df[feature].values]\n",
    "    y = [yes_male_df[feature].values]\n",
    "    plt.hist([x, y], label=['No','Yes'], bins=11)\n",
    "    ax.legend()\n",
    "    plt.show()"
   ]
  },
  {
   "cell_type": "code",
   "execution_count": null,
   "metadata": {},
   "outputs": [],
   "source": [
    "#How do the distributions of certain features look like for 'yes' decision and 'no' decision\n",
    "\n",
    "plot_feature('attr_partner')"
   ]
  },
  {
   "cell_type": "code",
   "execution_count": null,
   "metadata": {},
   "outputs": [],
   "source": [
    "plot_feature('intel_partner')"
   ]
  },
  {
   "cell_type": "code",
   "execution_count": null,
   "metadata": {},
   "outputs": [],
   "source": [
    "plot_feature('shar_partner')"
   ]
  },
  {
   "cell_type": "markdown",
   "metadata": {},
   "source": [
    "Any more cool plots you can think of? Fiddle around with the dataset."
   ]
  }
 ],
 "metadata": {
  "kernelspec": {
   "display_name": "Python 3",
   "language": "python",
   "name": "python3"
  },
  "language_info": {
   "codemirror_mode": {
    "name": "ipython",
    "version": 3
   },
   "file_extension": ".py",
   "mimetype": "text/x-python",
   "name": "python",
   "nbconvert_exporter": "python",
   "pygments_lexer": "ipython3",
   "version": "3.6.0"
  }
 },
 "nbformat": 4,
 "nbformat_minor": 1
}
